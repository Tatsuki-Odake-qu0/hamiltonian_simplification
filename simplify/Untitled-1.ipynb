{
 "cells": [
  {
   "attachments": {},
   "cell_type": "markdown",
   "metadata": {},
   "source": [
    "### Clifford basedなHamiltonian簡略化アルゴリズムを作りたい。　　\n",
    "構成としては以下のような感じでいいと思う　　\n",
    "1. Hamiltonianを表すクラスとしては、non-zeroなHamiltonianのPauli vecが格納されたlis_vecと  \n",
    "対応するampが格納されたlis_ampを用意する。\n",
    "2. あらかじめ、cli_rot(vec1, vec2)という関数を作っておく。これはe^{-i pi/2 vec2 }(vec1)e^{i pi/2 vec2 }  \n",
    "というClifford操作を表すための関数で、その内部操作としては、vec1がvec2と交換する場合は変化なし、交換しない場合はpauli string  \n",
    "を足したものが返ってくると言った感じになる。←そのために、{0123}^2→{0123}で掛け算に対応するpauliを作っておきたい。  \n",
    "注：cost functionを評価する上ではamplitudeにくっつく1,-1,i,-iなどの係数は無視してもいい(どうせcliffordなので  \n",
    "重ね合わせで消えるみたいなこともない)のだが、何となく関数の返り値を完璧にしたいので、ちゃんと係数も考えることにする  \n",
    "3. 具体的には、全体の最適化を行う関数optimize_cliffordの返り値は ①最適な基底を与えるClifford回転、具体的には、  \n",
    "list[list]で、外側のlistのindex+1(1,2,...)はcircuitの何番目の深さか、内側のlistは対応する深さでのcliffordのlist  \n",
    "(具体的には、これ自身も[[(1,14), (3,3)], [(4,11), (2,1)], ...]、みたいな形式の[(qubitのペア), (XYZの組み合わせ)]  \n",
    "という2qubit cliffordの組み合わせを指定するものになっている。できることならqiskitと対応させたいものだが...時間的になあ...)  \n",
    "②その結果のlis_vecとlis_amp(実はlis_ampも1,-1, -i, i倍を受ける可能性が微妙にあるので、これもoutputに含める)  \n",
    "の2つになるようにしたい。また、optimize_cliffordの引数はlis_vec, lis_amp, cost_func, max_iter, min_cost_decの5つ  \n",
    "でいいだろう。  \n",
    "4. optimize_cliffordのコードの流れとしては、以下のようなものを考えている:  \n",
    "①lis_vecの長さからqubit数nを取得、lis_ampと同じかを確かめる  \n",
    "②for文をmax_iterについて作成、rest_qubit=(1,...,n)を作る  \n",
    "③min_ind=0 ((n,n,4,4)型のindを入れるもの、後述のcostを最小化するもの)とmin_val=1を作る。  \n",
    "④(i,k, si, sk)要素(i<k)についてfor文、i番目がsi、k番目がsk、それ以外が0な長さnのpauli_word　vec_rotを作る  \n",
    "⑤for文の中で、Σ_{vec1\\in lis_vec} [cost(vec1)-cost(cli_rot(vec1, vec_rot))]*abs(lis_amp of vec1) を計算、  \n",
    "結果がmin_valより小さければmin_indを更新、min_valも更新  \n",
    "⑥for文終了後、もしmin_val<0ならmin_indを元にvec1=cli_rot(vec1, vec_rot)  \n",
    "⑦rest_qubitからi,jを取り除く。  \n",
    "\n",
    "↑ただ、ここでそもそもvecのclassとしてlen=nのものではなくlis_qとlis_pの組を指定したほうがいいかも"
   ]
  },
  {
   "cell_type": "code",
   "execution_count": null,
   "metadata": {},
   "outputs": [],
   "source": [
    "import numpy as np\n",
    "# lis_q:qubit番号、lis_p:pauli番号\n",
    "def nonzero2vec(lis_q, lis_p, n):\n",
    "    vec = np.zeros(n)\n",
    "    for i in range(len(lis_q)):\n",
    "        vec[lis_q[i]] = lis_p[i]\n",
    "\n",
    "# cli_rot, cost,\n",
    "def cost(vec):\n",
    "    "
   ]
  }
 ],
 "metadata": {
  "kernelspec": {
   "display_name": "Python 3",
   "language": "python",
   "name": "python3"
  },
  "language_info": {
   "name": "python",
   "version": "3.8.9 (default, Apr 13 2022, 08:48:06) \n[Clang 13.1.6 (clang-1316.0.21.2.5)]"
  },
  "orig_nbformat": 4,
  "vscode": {
   "interpreter": {
    "hash": "31f2aee4e71d21fbe5cf8b01ff0e069b9275f58929596ceb00d14d90e3e16cd6"
   }
  }
 },
 "nbformat": 4,
 "nbformat_minor": 2
}
